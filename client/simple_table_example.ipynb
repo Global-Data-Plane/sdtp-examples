{
 "cells": [
  {
   "cell_type": "markdown",
   "id": "c63f055d",
   "metadata": {},
   "source": [
    "# Simple Table Example Client\n",
    "This Jupyter Notebook is a client for the simple table example.  Once you have started the Simple Table Example server, start this Notebook and run it to query the tables on the example server.\n",
    "\n",
    "_The Simple Data Transfer Protocol requires *no* specialized software on the client!_ All that's needed is _any_ library to make http/s requests.  In this example, we use the standard Python library _requests_ but any example will do"
   ]
  },
  {
   "cell_type": "code",
   "execution_count": 1,
   "id": "faec43a1",
   "metadata": {},
   "outputs": [],
   "source": [
    "import requests"
   ]
  },
  {
   "cell_type": "markdown",
   "id": "827f705d",
   "metadata": {},
   "source": [
    "Set the URL of the server to your local installation.  _This is the only variable you will need to adjust for your local installation_."
   ]
  },
  {
   "cell_type": "code",
   "execution_count": 2,
   "id": "c99b3d0d",
   "metadata": {},
   "outputs": [],
   "source": [
    "server_url = 'http://localhost:5001'"
   ]
  },
  {
   "cell_type": "markdown",
   "id": "cc7b4e52",
   "metadata": {},
   "source": [
    "The '/' and '/help' routes show the available routes"
   ]
  },
  {
   "cell_type": "code",
   "execution_count": 3,
   "id": "04521e04",
   "metadata": {},
   "outputs": [],
   "source": [
    "response = requests.get(server_url)"
   ]
  },
  {
   "cell_type": "markdown",
   "id": "2e4e922f",
   "metadata": {},
   "source": [
    "Check the status of the response.  It should be 200 (everything is OK).  If it hangs on returns a 404 (Not found) then the server_url is wrong or blocked due to a local security setting."
   ]
  },
  {
   "cell_type": "code",
   "execution_count": 4,
   "id": "c9118be9",
   "metadata": {},
   "outputs": [
    {
     "data": {
      "text/plain": [
       "200"
      ]
     },
     "execution_count": 4,
     "metadata": {},
     "output_type": "execute_result"
    }
   ],
   "source": [
    "response.status_code"
   ]
  },
  {
   "cell_type": "markdown",
   "id": "bca7bc6b",
   "metadata": {},
   "source": [
    "All returns in the Simple Data Transfer Protocol are JSON, so these can be used in computation on the client.  Implementers are free to add HTML routes for clarity and UI, but this is not a requirement.  Help for this server generates a list of routes, required parameters, and their return values"
   ]
  },
  {
   "cell_type": "code",
   "execution_count": 5,
   "id": "5bc9599a",
   "metadata": {},
   "outputs": [
    {
     "data": {
      "text/plain": [
       "[{'description': 'Return the list of table names',\n",
       "  'headers': 'None',\n",
       "  'method': 'GET',\n",
       "  'url': '/get_table_names'},\n",
       " {'description': 'Returns the schema of the table as a list of objects.  Each object will  contain the fields \"name\" and \"type\", where \"type\"is an SDML type.',\n",
       "  'headers': 'None',\n",
       "  'method': 'GET',\n",
       "  'url': '/get_table_schema?table_name string, required'},\n",
       " {'description': 'Dumps a JSONIfied dictionary of the form:{table_name: <table_schema>}, where <table_schema> is a dictionary{\"name\": name, \"type\": type}',\n",
       "  'headers': 'None',\n",
       "  'method': 'GET',\n",
       "  'url': '/get_tables'},\n",
       " {'body': {'columns': ' If  present, a list of the names of the columns to fetch',\n",
       "   'filter': ' optional, a filter_spec in the SDTP filter language',\n",
       "   'table': ' required, the name of the table to get the rows from'},\n",
       "  'description': 'Get the rows from table table which match filter filter.  If columns is present, return only those columns.  Returns a simple list of lists of columns',\n",
       "  'method': 'POST',\n",
       "  'url': '/get_filtered_rows'},\n",
       " {'description': 'Get the  minimum and maximum values for column column_name in table table_name, returned as a list [min_val, max_val].',\n",
       "  'headers': 'None',\n",
       "  'method': 'GET',\n",
       "  'url': '/get_range_spec?column_name string, required&table_name string, required'},\n",
       " {'description': 'Get all the distinct values for column column_name in table table_name, returned as a sorted list.',\n",
       "  'headers': 'None',\n",
       "  'method': 'GET',\n",
       "  'url': '/get_all_values?column_name string, required&table_name string, required'},\n",
       " {'description': 'Return the column <column_name> in table <table_name> as a list.  The behavior is undefined when the table is infinite',\n",
       "  'headers': 'None',\n",
       "  'method': 'GET',\n",
       "  'url': '/get_column?column_name string, required&table_name string, required'}]"
      ]
     },
     "execution_count": 5,
     "metadata": {},
     "output_type": "execute_result"
    }
   ],
   "source": [
    "response.json()"
   ]
  },
  {
   "cell_type": "markdown",
   "id": "b825a05f",
   "metadata": {},
   "source": [
    "Get the list of table names"
   ]
  },
  {
   "cell_type": "code",
   "execution_count": 6,
   "id": "c42039ac",
   "metadata": {},
   "outputs": [
    {
     "data": {
      "text/plain": [
       "['ec_table',\n",
       " 'electoral_college',\n",
       " 'nationwide_vote',\n",
       " 'nightingale',\n",
       " 'presidential_margins',\n",
       " 'presidential_vote',\n",
       " 'presidential_vote_history']"
      ]
     },
     "execution_count": 6,
     "metadata": {},
     "output_type": "execute_result"
    }
   ],
   "source": [
    "response = requests.get(f'{server_url}/get_table_names')\n",
    "response.json()"
   ]
  },
  {
   "cell_type": "markdown",
   "id": "1e646026",
   "metadata": {},
   "source": [
    "Get the schema of the nationwide_vote table"
   ]
  },
  {
   "cell_type": "code",
   "execution_count": 7,
   "id": "65fa0545",
   "metadata": {},
   "outputs": [
    {
     "data": {
      "text/plain": [
       "[{'name': 'Year', 'type': 'number'},\n",
       " {'name': 'Party', 'type': 'string'},\n",
       " {'name': 'Percentage', 'type': 'number'}]"
      ]
     },
     "execution_count": 7,
     "metadata": {},
     "output_type": "execute_result"
    }
   ],
   "source": [
    "response = requests.get(f'{server_url}/get_table_schema?table_name=nationwide_vote')\n",
    "response.json()"
   ]
  },
  {
   "cell_type": "markdown",
   "id": "7cb19edd",
   "metadata": {},
   "source": [
    "Find the minimum and maximum years for which we have nationwide vote data"
   ]
  },
  {
   "cell_type": "code",
   "execution_count": 8,
   "id": "db46d81f",
   "metadata": {},
   "outputs": [
    {
     "data": {
      "text/plain": [
       "[1828.0, 2020.0]"
      ]
     },
     "execution_count": 8,
     "metadata": {},
     "output_type": "execute_result"
    }
   ],
   "source": [
    "response = requests.get(f'{server_url}/get_range_spec?table_name=nationwide_vote&column_name=Year')\n",
    "response.json()"
   ]
  },
  {
   "cell_type": "markdown",
   "id": "b52e361c",
   "metadata": {},
   "source": [
    "Find all the parties in the nationwide vote column"
   ]
  },
  {
   "cell_type": "code",
   "execution_count": 9,
   "id": "a00a817b",
   "metadata": {},
   "outputs": [
    {
     "data": {
      "text/plain": [
       "['American',\n",
       " 'American Independent',\n",
       " 'Anti-Masonic',\n",
       " 'Constitutional Union',\n",
       " 'Democratic',\n",
       " 'Free Soil',\n",
       " 'Green',\n",
       " 'Greenback',\n",
       " 'Independent',\n",
       " 'Libertarian',\n",
       " 'Liberty',\n",
       " 'Other',\n",
       " 'Populist',\n",
       " 'Progressive',\n",
       " 'Reform',\n",
       " 'Republican',\n",
       " 'Socialist',\n",
       " 'Southern Democratic',\n",
       " 'States\\' Rights \"Dixiecrat\"']"
      ]
     },
     "execution_count": 9,
     "metadata": {},
     "output_type": "execute_result"
    }
   ],
   "source": [
    "response = requests.get(f'{server_url}/get_all_values?table_name=nationwide_vote&column_name=Party')\n",
    "response.json()"
   ]
  },
  {
   "cell_type": "markdown",
   "id": "73574490",
   "metadata": {},
   "source": [
    "Get the schema of the presidential_vote table"
   ]
  },
  {
   "cell_type": "code",
   "execution_count": 10,
   "id": "dede47cf",
   "metadata": {},
   "outputs": [
    {
     "data": {
      "text/plain": [
       "[{'name': 'Year', 'type': 'number'},\n",
       " {'name': 'State', 'type': 'string'},\n",
       " {'name': 'Name', 'type': 'string'},\n",
       " {'name': 'Party', 'type': 'string'},\n",
       " {'name': 'Votes', 'type': 'number'},\n",
       " {'name': 'Percentage', 'type': 'number'}]"
      ]
     },
     "execution_count": 10,
     "metadata": {},
     "output_type": "execute_result"
    }
   ],
   "source": [
    "response = requests.get(f'{server_url}/get_table_schema?table_name=presidential_vote')\n",
    "response.json()"
   ]
  },
  {
   "cell_type": "markdown",
   "id": "63d7d619",
   "metadata": {},
   "source": [
    "Find all the years in which a 'Roosevelt' ran for President"
   ]
  },
  {
   "cell_type": "code",
   "execution_count": 11,
   "id": "990ef6f6",
   "metadata": {},
   "outputs": [
    {
     "data": {
      "text/plain": [
       "200"
      ]
     },
     "execution_count": 11,
     "metadata": {},
     "output_type": "execute_result"
    }
   ],
   "source": [
    "filter_name = {\"operator\": \"REGEX_MATCH\", \"column\": \"Name\", \"expression\": \".*Roosevelt.*\"}\n",
    "filter_state = {\"operator\": \"IN_LIST\", \"column\": \"State\", \"values\": [\"Nationwide\"]}\n",
    "all_filter = {\"operator\": \"ALL\", \"arguments\": [filter_name, filter_state]}\n",
    "query = {\"table\": \"presidential_vote\",  \"filter\": all_filter, \"columns\": ['Year', 'Name', 'Percentage']}\n",
    "response = requests.post(f'{server_url}/get_filtered_rows', json = query)\n",
    "response.status_code"
   ]
  },
  {
   "cell_type": "code",
   "execution_count": 12,
   "id": "35ebeedd",
   "metadata": {},
   "outputs": [
    {
     "data": {
      "text/plain": [
       "'[[1944.0,\"Roosevelt, Franklin (FDR)\",53.3857200015374],[1940.0,\"Roosevelt, Franklin (FDR)\",54.72428023147225],[1936.0,\"Roosevelt, Franklin (FDR)\",60.799043018603165],[1932.0,\"Roosevelt, Franklin (FDR)\",57.40906712325231],[1912.0,\"Roosevelt, Theodore \\\\\"Teddy\\\\\"\",27.387567058051598],[1904.0,\"Roosevelt, Theodore (Teddy)\",56.41777007850961]]\\n'"
      ]
     },
     "execution_count": 12,
     "metadata": {},
     "output_type": "execute_result"
    }
   ],
   "source": [
    "response.text"
   ]
  },
  {
   "cell_type": "code",
   "execution_count": null,
   "id": "0b3ddf39",
   "metadata": {},
   "outputs": [],
   "source": []
  }
 ],
 "metadata": {
  "kernelspec": {
   "display_name": "Python 3 (ipykernel)",
   "language": "python",
   "name": "python3"
  },
  "language_info": {
   "codemirror_mode": {
    "name": "ipython",
    "version": 3
   },
   "file_extension": ".py",
   "mimetype": "text/x-python",
   "name": "python",
   "nbconvert_exporter": "python",
   "pygments_lexer": "ipython3",
   "version": "3.10.11"
  }
 },
 "nbformat": 4,
 "nbformat_minor": 5
}
