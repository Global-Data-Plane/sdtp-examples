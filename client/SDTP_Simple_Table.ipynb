{
 "cells": [
  {
   "cell_type": "markdown",
   "id": "d2c21c11",
   "metadata": {},
   "source": [
    "# SDTP Simple Table Example\n",
    "The Simple Data Transfer Protocol doesn't require client-side software.  However, using the SDTP package at the client and using it to make remote queries can simplify the client code; and of course local tables can be hosted as well.  This client uses the same server as in the Simple Table Example, but references it through the RemoteTable SDTP class.  Note that the sdtp package and all its dependencies (e.g., pandas) must be installed."
   ]
  },
  {
   "cell_type": "code",
   "execution_count": 1,
   "id": "20bb46ef",
   "metadata": {},
   "outputs": [],
   "source": [
    "from sdtp import InvalidDataException, RemoteSDMLTable, SDML_STRING, SDML_NUMBER"
   ]
  },
  {
   "cell_type": "markdown",
   "id": "82338f7f",
   "metadata": {},
   "source": [
    "For a RemoteSDMLTable, we must provide both the schema and the URL.  _Note you should change the URL to match your local installation_"
   ]
  },
  {
   "cell_type": "code",
   "execution_count": 2,
   "id": "5f07e324",
   "metadata": {},
   "outputs": [],
   "source": [
    "schema = [{\"name\": \"Year\", \"type\": SDML_NUMBER}, {\"name\": \"State\", \"type\": SDML_STRING}, {\"name\": \"Name\", \"type\": SDML_STRING}, {\"name\": \"Party\", \"type\": SDML_STRING}, {\"name\": \"Votes\", \"type\": SDML_NUMBER}, {\"name\": \"Percentage\", \"type\": SDML_NUMBER}]"
   ]
  },
  {
   "cell_type": "code",
   "execution_count": 3,
   "id": "a7ab454a",
   "metadata": {},
   "outputs": [],
   "source": [
    "server_url = 'http://localhost:5001'"
   ]
  },
  {
   "cell_type": "code",
   "execution_count": 4,
   "id": "9d3386c3",
   "metadata": {},
   "outputs": [
    {
     "ename": "SyntaxError",
     "evalue": "invalid syntax (1385493644.py, line 1)",
     "output_type": "error",
     "traceback": [
      "\u001b[1;36m  Input \u001b[1;32mIn [4]\u001b[1;36m\u001b[0m\n\u001b[1;33m    To create a RemoteSDMLTable, we must provide three pieces of information: the name of the table on the remote SDTP Server, the schema, and the URL of the server\u001b[0m\n\u001b[1;37m       ^\u001b[0m\n\u001b[1;31mSyntaxError\u001b[0m\u001b[1;31m:\u001b[0m invalid syntax\n"
     ]
    }
   ],
   "source": [
    "To create a RemoteSDMLTable, we must provide three pieces of information: the name of the table on the remote SDTP Server, the schema, and the URL of the server"
   ]
  },
  {
   "cell_type": "code",
   "execution_count": null,
   "id": "b49c1344",
   "metadata": {},
   "outputs": [],
   "source": [
    "presidential_vote = RemoteSDMLTable('presidential_vote', schema, server_url)"
   ]
  },
  {
   "cell_type": "markdown",
   "id": "4b619ceb",
   "metadata": {},
   "source": [
    "Now we just query the presidential_vote table directly"
   ]
  },
  {
   "cell_type": "code",
   "execution_count": null,
   "id": "6cbd5423",
   "metadata": {},
   "outputs": [],
   "source": [
    "presidential_vote.range_spec('Year')"
   ]
  },
  {
   "cell_type": "code",
   "execution_count": null,
   "id": "f3dbcf30",
   "metadata": {},
   "outputs": [],
   "source": [
    "presidential_vote.all_values('Party')"
   ]
  },
  {
   "cell_type": "markdown",
   "id": "8231c9f2",
   "metadata": {},
   "source": [
    "The same row queries work on RemoteSDMLTables"
   ]
  },
  {
   "cell_type": "code",
   "execution_count": null,
   "id": "42c934b4",
   "metadata": {},
   "outputs": [],
   "source": [
    "filter_name = {\"operator\": \"REGEX_MATCH\", \"column\": \"Name\", \"expression\": \".*Roosevelt.*\"}\n",
    "filter_state = {\"operator\": \"IN_LIST\", \"column\": \"State\", \"values\": [\"Nationwide\"]}\n",
    "all_filter = {\"operator\": \"ALL\", \"arguments\": [filter_name, filter_state]}"
   ]
  },
  {
   "cell_type": "code",
   "execution_count": null,
   "id": "fe9b60b6",
   "metadata": {},
   "outputs": [],
   "source": [
    "presidential_vote.get_filtered_rows_from_spec(all_filter, ['Year', 'Name', 'Percentage'])"
   ]
  },
  {
   "cell_type": "code",
   "execution_count": null,
   "id": "6629d481",
   "metadata": {},
   "outputs": [],
   "source": []
  }
 ],
 "metadata": {
  "kernelspec": {
   "display_name": "Python 3 (ipykernel)",
   "language": "python",
   "name": "python3"
  },
  "language_info": {
   "codemirror_mode": {
    "name": "ipython",
    "version": 3
   },
   "file_extension": ".py",
   "mimetype": "text/x-python",
   "name": "python",
   "nbconvert_exporter": "python",
   "pygments_lexer": "ipython3",
   "version": "3.10.11"
  }
 },
 "nbformat": 4,
 "nbformat_minor": 5
}
